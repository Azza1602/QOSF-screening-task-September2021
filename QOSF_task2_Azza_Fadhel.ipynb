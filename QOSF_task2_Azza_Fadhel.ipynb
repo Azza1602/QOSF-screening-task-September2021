{
  "nbformat": 4,
  "nbformat_minor": 0,
  "metadata": {
    "colab": {
      "name": "QOSF_task2_Azza.Fadhel.ipynb",
      "provenance": [],
      "collapsed_sections": []
    },
    "kernelspec": {
      "name": "python3",
      "display_name": "Python 3"
    },
    "language_info": {
      "name": "python"
    }
  },
  "cells": [
    {
      "cell_type": "markdown",
      "metadata": {
        "id": "JLbjfzRSOSrb"
      },
      "source": [
        "#QOSF screening test : task 2"
      ]
    },
    {
      "cell_type": "markdown",
      "metadata": {
        "id": "PyfVfBz_LtAo"
      },
      "source": [
        "Written by : Azza Fadhel, a third-year multidisciplinary engineering student."
      ]
    },
    {
      "cell_type": "markdown",
      "metadata": {
        "id": "bK6bUmWsOgMK"
      },
      "source": [
        "**Task 2** :\n",
        "Prepare 4 random 4-qubit quantum states of your choice.\n",
        "Create and train a variational circuit that transforms input states into predefined output states. Namely\n",
        "if random state 1 is provided, it returns state |0011>\n",
        "if random state 2 is provided, it returns state |0101>\n",
        "if random state 3 is provided, it returns state |1010>\n",
        "if random state 4 is provided, it returns state |1100>\n",
        "What would happen if you provided a different state?\n",
        "\n",
        "Analyze and discuss the results.\n"
      ]
    },
    {
      "cell_type": "markdown",
      "metadata": {
        "id": "AyAyx8dUaHgH"
      },
      "source": [
        "For this work, I used the Multiclass margin classifier Tutorial from PennyLane : https://pennylane.ai/qml/demos/tutorial_multiclass_classification.html"
      ]
    },
    {
      "cell_type": "markdown",
      "metadata": {
        "id": "4WW1NssWOwTb"
      },
      "source": [
        "Let's start by installing PennyLane"
      ]
    },
    {
      "cell_type": "code",
      "metadata": {
        "colab": {
          "base_uri": "https://localhost:8080/"
        },
        "id": "RvbuqtcxzcL_",
        "outputId": "5d43b06c-8e44-431e-a40d-b8dca0c478df"
      },
      "source": [
        "pip install pennylane"
      ],
      "execution_count": 1,
      "outputs": [
        {
          "output_type": "stream",
          "name": "stdout",
          "text": [
            "Requirement already satisfied: pennylane in /usr/local/lib/python3.7/dist-packages (0.18.0)\n",
            "Requirement already satisfied: appdirs in /usr/local/lib/python3.7/dist-packages (from pennylane) (1.4.4)\n",
            "Requirement already satisfied: autoray in /usr/local/lib/python3.7/dist-packages (from pennylane) (0.2.5)\n",
            "Requirement already satisfied: networkx in /usr/local/lib/python3.7/dist-packages (from pennylane) (2.6.3)\n",
            "Requirement already satisfied: numpy in /usr/local/lib/python3.7/dist-packages (from pennylane) (1.19.5)\n",
            "Requirement already satisfied: cachetools in /usr/local/lib/python3.7/dist-packages (from pennylane) (4.2.2)\n",
            "Requirement already satisfied: toml in /usr/local/lib/python3.7/dist-packages (from pennylane) (0.10.2)\n",
            "Requirement already satisfied: pennylane-lightning>=0.18 in /usr/local/lib/python3.7/dist-packages (from pennylane) (0.18.0)\n",
            "Requirement already satisfied: semantic-version==2.6 in /usr/local/lib/python3.7/dist-packages (from pennylane) (2.6.0)\n",
            "Requirement already satisfied: autograd in /usr/local/lib/python3.7/dist-packages (from pennylane) (1.3)\n",
            "Requirement already satisfied: scipy in /usr/local/lib/python3.7/dist-packages (from pennylane) (1.4.1)\n",
            "Requirement already satisfied: future>=0.15.2 in /usr/local/lib/python3.7/dist-packages (from autograd->pennylane) (0.16.0)\n"
          ]
        }
      ]
    },
    {
      "cell_type": "markdown",
      "metadata": {
        "id": "66mq3ZjKOSnG"
      },
      "source": [
        "Then let’s import the prerequisite libraries:"
      ]
    },
    {
      "cell_type": "code",
      "metadata": {
        "id": "6BnO_S2mzepr"
      },
      "source": [
        "import pennylane as qml\n",
        "import numpy as np\n",
        "import torch\n",
        "from torch.autograd import Variable\n",
        "import torch.optim as optim\n"
      ],
      "execution_count": 2,
      "outputs": []
    },
    {
      "cell_type": "markdown",
      "metadata": {
        "id": "oLkzhQk9PZ9x"
      },
      "source": [
        "we generate 4 random 4-qubits quantum states by sampling each entry from a standard normal distribution.\n",
        "As it's a 4-qubits quantum state, it's a 2^4=16 dimentional state vector."
      ]
    },
    {
      "cell_type": "code",
      "metadata": {
        "colab": {
          "base_uri": "https://localhost:8080/"
        },
        "id": "qR-jHV9OzhA6",
        "outputId": "45b661d0-3317-4a6e-87e2-42be1a6abe24"
      },
      "source": [
        "v0 = np.random.normal(0, 1, 16)\n",
        "v1 = np.random.normal(1, 2, 16)\n",
        "v2 = np.random.normal(2, 3, 16)\n",
        "v3 = np.random.normal(3, 4, 16)\n",
        "v0\n",
        "v1\n",
        "v2\n",
        "v3"
      ],
      "execution_count": 3,
      "outputs": [
        {
          "output_type": "execute_result",
          "data": {
            "text/plain": [
              "array([ 6.68580582,  6.44423524, -0.38128591,  1.18567406,  6.00087146,\n",
              "        4.00678638,  2.04047982,  0.03738406,  3.05027538, -1.90140164,\n",
              "        1.16187842,  1.32670913,  7.41466462, -1.94324675,  4.16770507,\n",
              "        1.60315664])"
            ]
          },
          "metadata": {},
          "execution_count": 3
        }
      ]
    },
    {
      "cell_type": "markdown",
      "metadata": {
        "id": "FPPrZf-xQBE-"
      },
      "source": [
        "Let's define the predefined output quantum states. These states will define the labels in the Machine Learning model."
      ]
    },
    {
      "cell_type": "code",
      "metadata": {
        "id": "6MmvOBbRzjuO"
      },
      "source": [
        "#Let's define the output state\n",
        "out0=np.array([0,0,0,1,0,0,0,0,0,0,0,0,0,0,0,0])\n",
        "out1=np.array([0,0,0,0,0,1,0,0,0,0,0,0,0,0,0,0])\n",
        "out2=np.array([0,0,0,0,0,0,0,0,0,0,0,0,1,0,0,0])\n",
        "out3=np.array([0,0,0,0,0,0,0,0,0,0,1,0,0,0,0,0])"
      ],
      "execution_count": 4,
      "outputs": []
    },
    {
      "cell_type": "markdown",
      "metadata": {
        "id": "QWSXR3kRQSut"
      },
      "source": [
        "Our feature size is 9, and we will use amplitude embedding. This means that each possible amplitude (in the computational basis) will correspond to a single feature. With 4 qubits (wires), there are 16 possible states, and as such, we can encode a feature vector of size 16."
      ]
    },
    {
      "cell_type": "code",
      "metadata": {
        "id": "htaKr6pkznkj"
      },
      "source": [
        "\n",
        "np.random.seed(0)\n",
        "torch.manual_seed(0)\n",
        "\n",
        "num_classes = 4\n",
        "margin = 0.15\n",
        "feature_size = 9\n",
        "batch_size = 10\n",
        "lr_adam = 0.01\n",
        "train_split = 0.75\n",
        "# the number of the required qubits is calculated from the number of features\n",
        "num_qubits = int(np.ceil(np.log2(feature_size)))\n",
        "num_layers = 6\n",
        "total_iterations = 30\n",
        "\n",
        "dev = qml.device(\"default.qubit\", wires=num_qubits)"
      ],
      "execution_count": 5,
      "outputs": []
    },
    {
      "cell_type": "code",
      "metadata": {
        "colab": {
          "base_uri": "https://localhost:8080/"
        },
        "id": "GK4R_ejE4AYm",
        "outputId": "e63eff6a-e6a6-4da6-8a56-daa99482ef63"
      },
      "source": [
        "# Print the number of qubits\n",
        "num_qubits "
      ],
      "execution_count": 6,
      "outputs": [
        {
          "output_type": "execute_result",
          "data": {
            "text/plain": [
              "4"
            ]
          },
          "metadata": {},
          "execution_count": 6
        }
      ]
    },
    {
      "cell_type": "markdown",
      "metadata": {
        "id": "CZmn0QTjQyN-"
      },
      "source": [
        "###Quantum Circuit"
      ]
    },
    {
      "cell_type": "markdown",
      "metadata": {
        "id": "Ik9RGhshQ1O1"
      },
      "source": [
        "We begin by constructing the layer that will be repeated throughout our variational quantum circuits. Each qubit has its own set of rotation gates, which are followed by entangling/CNOT gates."
      ]
    },
    {
      "cell_type": "code",
      "metadata": {
        "id": "Wc1FYbKmzxum"
      },
      "source": [
        "def layer(W):\n",
        "    for i in range(num_qubits):\n",
        "        qml.Rot(W[i, 0], W[i, 1], W[i, 2], wires=i)\n",
        "    for j in range(num_qubits - 1):\n",
        "        qml.CNOT(wires=[j, j + 1])\n",
        "    if num_qubits >= 2:\n",
        "        # Apply additional CNOT to entangle the last with the first qubit\n",
        "        qml.CNOT(wires=[num_qubits - 1, 0])"
      ],
      "execution_count": 7,
      "outputs": []
    },
    {
      "cell_type": "markdown",
      "metadata": {
        "id": "EU5QbfxARL8G"
      },
      "source": [
        "The quantum nodes that will be used are now defined. We'll use four QNodes, each representing one one-vs-all classifier, because we're implementing our multiclass classifier as multiple one-vs-all classifiers. Circuit1 determines whether a sample belongs to class 1 or not, and so on. All nodes have the same circuit architecture. For the QNodes, we use the PyTorch interface. Amplitude embedding is used to embed data in each circuit."
      ]
    },
    {
      "cell_type": "code",
      "metadata": {
        "id": "c2quWeKfz965"
      },
      "source": [
        "def circuit(weights, feat=None):\n",
        "    qml.templates.embeddings.AmplitudeEmbedding(feat, range(num_qubits), pad=0.0, normalize=True)\n",
        "    for W in weights:\n",
        "        layer(W)\n",
        "\n",
        "    return qml.expval(qml.PauliZ(0))\n",
        "\n",
        "\n",
        "qnodes = []\n",
        "for iq in range(num_classes):\n",
        "    qnode = qml.QNode(circuit, dev, interface=\"torch\")\n",
        "    qnodes.append(qnode)"
      ],
      "execution_count": 8,
      "outputs": []
    },
    {
      "cell_type": "markdown",
      "metadata": {
        "id": "DPNwmTtFRlVn"
      },
      "source": [
        "The weights parametrize the variational quantum circuit. After processing the quantum circuit's output, we apply a classical bias term. The weights of variational circuits and the classical bias term are both optimized."
      ]
    },
    {
      "cell_type": "code",
      "metadata": {
        "id": "13z_mY1c0A0E"
      },
      "source": [
        "def variational_classifier(q_circuit, params, feat):\n",
        "    weights = params[0]\n",
        "    bias = params[1]\n",
        "    return q_circuit(weights, feat=feat) + bias"
      ],
      "execution_count": 9,
      "outputs": []
    },
    {
      "cell_type": "markdown",
      "metadata": {
        "id": "TAQ19KgSRrRs"
      },
      "source": [
        "###Loss Function"
      ]
    },
    {
      "cell_type": "markdown",
      "metadata": {
        "id": "GCNxfaybRrWA"
      },
      "source": [
        "Using the margin loss when implementing multiclass classifiers as a set of one-vs-all classifiers is common. The ith classifier's output, ci on input x, is interpreted into a score, si, between [-1,1]. More specifically, we have: ci(x;θ) si = ci(x;θ) The multiclass margin loss attempts to ensure that the correct class's score is higher by a certain margin than the incorrect classes' score. The mutliclass loss on a sample (x,y) where y denotes the class label can be expressed analytically as:"
      ]
    },
    {
      "cell_type": "markdown",
      "metadata": {
        "id": "O2zbzAfnSqiC"
      },
      "source": [
        "![image.png](data:image/png;base64,iVBORw0KGgoAAAANSUhEUgAAAXcAAABHCAYAAAD8zQfnAAAU0UlEQVR4Ae1dwWvbyva+/9OstAgYAuZ14VW0qSBQ08UzhWsI1FyoKY+GB8GFYrIIXQRfKOYHMYX73EVxoeRCwYXgLoID4blQXAh4ETAU9MhCYPh+zGhGlmRJlm0plp1TKJHk0ejMNzPfnDnnzMxvoH+EACFACBACW4fAb1tXIioQIUAIEAKEAIjcqREQAoQAIbCFCBC5b2GlUpEIAUKAECBypzZACBAChMAWIkDkvoWVSkUiBAgBQoDIndoAIUAIEAJbiACR+xZWKhWJECAECAEid2oDhAAhQAhsIQJE7ltYqVQkQoAQIASI3KkNEAKEACGwhQgQuW9hpVKRCAFCgBAgcqc2QAgQAoTAFiJA5L6FlUpFIgQIAUKAyJ3aACFACBACW4gAkfumVerVCTTGwO7j/5MWRpuGD8lLCBACAgEi901rCJMhWk+85J5/08X4lwlz0f83A/Queuh+aOLkqAJ915svYwU0rjcNIJKXECAEOAJE7pvYDkZtlHfcRKyjfmklUhLrpofmC8OZHWive0gm50TESz+TyQjtl0U0aVBLH+ut+4KJ3tsKGt/MTJSMyD0T1bC4EOOPZYeAhYmmUEfvbvF8wt4wv7dxuMcHkAo6v8JSbdlzTuwHGvTj/sMa0LasGtdaHKF4JadsrVKWDJC7heGnNnq3WdIPLYwv2uj8yJJM/mq20D3SPLZ37aCDsT/ZKvdmD/U9huLZcJVcNuRdC/1jHWyvgcFkQ0QmMe8ZARODj2305nQyoXjtlNFes8NqNXIfd1COcOzVLuaRo4X+WwO5gzZGWetQfATeNXCSkLkjlVZ41xfkO3Wuaih/SLZFWVcn0Hdq6M2rylQKeH+ZWpd1FJiG2tctL+j9QboRXxr8qYMxHY3v8cTl7UTfraAT1c2kXyxxZSueiE6q1chdZTNqoyRJ/vDv+PYme4SroZugOUGJlMRf62sNWgZG4KiyCPL1DLBJawwWRpc9DLfaNDOyndRPWhgGKhl8dllHZS+P/GMD+Uc6KscdDOI39agqpN/WhcCvDiqy72gvzhG3OodnRbC9OvoRvCW4gysLcxXc9AqfCLnzgtjaYxXncRG67QinYOVT3BfSAyE8ZxOdPxjY7+1kzR3hH1zqF9HY3AS/d4I+KaCxsbQuasJ/UXwfpI5Jcw0ro/ldttW7IZq/s7kdPLYAlHAtCNhauwpMKKL1M6YYkwEaBYZClG/G6qHGgx7WGE6cCLkP/izY5L7fQjzrLO8wBbCdOvqBmlJMkO8j2WUd2ppH4LnFlI7AqXmGkVNwLmgqAfdd8A5eCraRXjdQYAyF04F6wf4b9tybiu4SQWCI1rMauknqgXdd1HY01M6ajml5kciw8YcyGCuidRNewN4b3q6M+INGeFZL/ZIAuY/Q/qc9+mlv+/GEMM9RDeow8d6+31RylGZ/dGJP2+5XQPk1OROaEjzZj2PVg9VFjc96Cg346BuAhd5r22ld/ujzoil/0yYoKLGAyHKiPuqsjPZtcjKK2a4ww03reB5Ze74uTTozg74rkfm5KpReY00BCauTu+ocjMV2RqlC17+5kMjwpT0CL2ByWlNZrG/cKaimmQws4/6CNcHk/ex3WzNnR92A8Ed7+s0HzPql9zWAEw7HuhDbGefPge7jIpAwuQuTiYbqZzkVuGmhKPtNfO1dKrWBSoEs188WDJ7vAvb8uIjESbc6uTvL4UOmtTNSqGlwGR2fMjRNamH4oYbSYwP6ozz05w30bk3035Wh7+nIPyqi9jnIPjrNIfDqboj2UVHkmXvEbahew/Tocw2l500MvI/BHb+8g2c/kkLZh6cEr6UaiTRGm9ued/LQH2nCNzH80UH9uQHjcR7aro7SyxYGd4Clnu/ryLGcXaf++p+M0XtXRWnfgLFvQN/NQX9WRfPCl/CyLn0803LafhFFuK7nx9GzSXt6zRCoXbkUl3ByZ1hFSTGvWqg+zSO/pyO3k0fx6Dx7kWP+zmT20XpZFI5lfVdD/mkN50t0R3+24ffJkvvofdGeqTkmYXdYcfwZQv8tn9VFmF2c9lNHdCsML/kqv6xM7sMzw+5oUSOYR0KlDYUVmIdH6tBfdexGrswijEEQ1c05Dh9zUBfVpO0KLHOn2W3btrO5R9RJT2pidfScSpeCSzIJJABP2TJww/ESi4+mBJd6nPrViT1j2NGg7dXRkwrR+GNFtA2ND9Ku584Mw+dsEp2Oazrq+cREj8ees5AQzxu1UldH84eN/eivEhjLofKuj1FENIOqKbuDMpQ/+AYQnkC1k0jNPeRd9YGov98b0HnZ/pLMOO6gusOmGmXUu+v6TbYvR2mYjNF5qaWsnSZI7lYf9QLDTCCHqAu7z0SZWtywK8UgXOlTykaUIuvOMdnrFcndxPkLSSKB09oAYRWJ/rMdvCkVnyIV6q5oDzUY2PucKECFjdRPwgGfcx6JfO0FKiq6xzMFU9PzoIVAKtRzjhZof8uO3eea5+L/68k4jXiMvpxm2jb4lFfMOSTo24sm7Llj0vA2ek7MfFM0T3ywClcLibUffbBX6op31ArTP2et50478FyoWWSQ2SVtcpeRWPtNJ/xy/KmCHC9/mO9q3EPrbVvMhDzFuMcb8xMfsA1nMMVtBxW+J9HOSYraaXLkLuT38IsCj3OZWhQYc1X2N3sGGagYiGyVPzKuVUPJkszf1ch90kdd7nEy43By5DMxvBhgrIhYdfiQ8ELzsoWTv11zPL/jajLG4KKP4YKec5HvZx7LIzuVLwJGzUACtfM5MjtFzdCFIj3HwTonLncl0RU+zDfrCXvuIne/k8wyTViqrQihptqPP6342YkU0lB8WhRaf3CselAJpVkpUDNPmdxlUAErnDgRY+NPVRjPwk0cw3c62G4F7Z8+u2FQ0VJ5ppS5Ak6u5AduO6jul5Yzk8aWMSFyl1aAUDKWEVC8z+hxFARlHgxV+ua0r9jlXy7hauSuHAZRTiUOGDfZqA6rOnwIufuLobTsxJwSjiboDsNUjVYLcJy5OnlMmf1lWM+9WxOxZ1e5qLjcVYRUdcp8praw5xHkjomJ4ZcW6i9LMPZyyHFbtJiFRNhCnUihPE5mHJ9RBZvT+RybaZBmrwadJX0xKg5alE1D/nEFtfe9qRIUJXbUb2YX9SVmjbW/A8xSM99xR5YwaI8MVI5ac5fjz2QT+MBE903YbJe3AY5RyO+/xwvBFlp7yAzQFkkpfnwmEmNx5TaTu3I0Mr/G5qq8wWnBGyOsOnxMolQx9CVll3TlvcylitTR3KOtMhWF2fEXlHkZuVJ5x709wT1p7h7HkcLNT/oh5G5dN1DkM8EdA4cfBhgLBVWRaAS5W32cSD+DYwuOBegccocyCUaR+/LRMtZ1ExXueHaZ0DymwlhluOdEdwM0nxvIu3cljSTMJORLQHOXvoLghWpTGe1tKGxlaF5abC+5T+2VLMhOzfESWrLPDqs6dpjN3WN2GaK1z4H2dqAZ0820buZe9Y/tinPCoPgbyt4eNuBsms1docBNFiKaJektCdQH5N8wEg97rtqAO3bZ5Qj2Oru85G798ptt7Agh7UUDjQMZk76AImCHuYZFvEw11ZmpvCrbMsR2N0LvQxvdG2lemfCN6urQBcn7Zj+wI8cqr6oo7uZR/7Yuk4yF0UUb7S8jJ2TUGtsby3EzhhNNNBmje1xC5VkRmquPW5cNlPabS9rlVyd3sR1AHG0ccisKXhfz6nZ7be5TrSbQTq1soTNRNIqw/Y2YE8W0MzGuWasOxGroqjYtNuXR4N/DZvSxivxODsXT6O1aFbk7jRGAHWHBUAizs8kROvR3H9dl41aFRabsTOWFderJV6dhz4PI3Unr09Ad0wh/PtvJReSN6rS/zkW0CeODhsttE1UfkdEy/EVph/Vr1GrLAk9kxWSEzgseAlpEI3TDOVcbD4rWcj/jHqLPVRivuxjz/sQXC8YNXIgq9BK/qfL6o9T8a0B4wEPxdICx2JJEhQlKs6eKglr4+7P1vlgWNmHHjRqblpUhSntXwR0eRdEj2FQxCQ/79ryQ6M3yNvcfTTtAn4/a7sVIE77RVEuGKwYRptL4vZESdqnG6BwwsN0SmtdjsQWrtsO1sUN7czEZGjc79Z5Or0OXkUvYbG//NHzNvJKmABZibwc2KM592jZsh2pICOE0WTJXNy25cVzNG0Ya9nzSs1eFepb8TzUmEa7KJRP1bUATJgADzctzHCrTGW9nFye2GedNzynHNJxydr2Ck8h1oUyLgQqKSBcwSCpzl9/U5QxQDMyltbo+N1Vg9mroKjP3xMTgrBywSZ2J/vsW+nzTNumAjSIb73eSvbMJT0ftqxIaML+3UN5xtzG+wVoT3dHY3pPpScNeMyIDL4zTgaP1LybdauTuJmsnwMBlCot8FhhZY0u/dXHuStOJBMQBzmtOURWq7N6eQUH+yO2QJb54ZS8P498djH4N0DywF8TwBU3l02Cnk3XdRu15EUbBNUVUH3T/5QtlTvmRcjno3EFzUJSDVHjcvF87cWeXxWuxLWlYbHiiArsHVdvcJdrFcds2BzntQP523IeaOXnajzKH3Q3ROa7AeKQht8edZxXUPw0x/s7bBB/07cVrSmOa5iG1fTe5Ot/2zSb85VcmuSiNmJOva1dIfc8I2RXSwuBDDZWnBgozfgbXh8ViupJYkCfCZR8bKB210J/ypiuxfWkHFhhoXKsp7EySlB/IhYV7OnTusOV951kNrasAoWU9OJqywHiV7TBWIfeQNuq0D1e7DXnmNRMqmB/CClVV1kX+xtiXYZHspmm5qUhNBadPnSseiXE9hKkid7geJXcEDN07RoZPJRat4wiT0oU8go9OE4qJrzL7zJgPY74flIyTWexN9IIymH0mAguU+Wn250w9sZW36UBkD8YxY8cDS7IKuQdmuPpDxWFhplxpUuMKSPiscHUxonJY3iwTlevc36TdMelNl7ipyB126ZFjOu13Fomow6aj9mARu0IWEjuj1CNS0jeS2GfNVkl/aJvyUzbwCKVgweIO/8/wRogt+P5scumnUjOc2QSZemKTu1w1rJz6oXvlxxF9jO67zsy2IHHeTCuNPWD5/EO+j9kz/uTalS/7ubdrIvepEy54yjNX7tkE0oE7E9XgpJQO4L1Dex8M7vx6pYuwu5PQA23tuFfPikknv4xdhNmBExBzdmFRAplmKAs1e0vEni0G2OhOv3DR/WaOhTO45xekYzn3tCr2zeGhnsvb2+9Z9jifk7N5/W1E8IZax7C0EzmOINFp1kfuPEqFLx1PaKppfjmce1yf9aON2hP7NJ1wu+kUMDt8qoxOgluNTnNP8EpFJrmddEllL4hllSl1UoKkmY+c1a2kXXL5THT/nUv8qEO/mSNNJFbOW4Qy9zCQpnh74Cyi4dukb+XvrDED+ySm6ANxBHf4VsHft8hrJXce+khnqK5Y5WpzrSjT0rKfUIOGLzxv2eyy/J59XOEqTr9kSyeOoBQ7kQ7EEYDaQQvDdflSFyiaHX2kQWxHImaTGow3vWyfhbBA+R7eGaoLgDOblIdPtdG7zVLL5YtK2uj8yJJMs8iJwVHsmphCLPvdEK0/cmJHxnWeAxlU6nSeyZDHjBxR6GwitqujfNpdeC+ldDCKkevtOWpPdJSOeNRQBY0v3gCGGDlkOImJwcf23O0WxMCchrK1IDJr1twXlJaSexBIJZZd7O3SsEMPeWjYvFV6Hok2/EbOVCjSaMPrcZ3iC59LCsrWEmUicl8CtCy84sSyL7DUfkbuiQXzlwnzZoDelzZO+AEM7j1DNuUoxJmCrfBgMkL3XQPdiLMxV8idXt1qBEz0/zpB+2rBLWtTwoTIPSVg08zW2WArZNHFdHHP/AUa0Wn9+wKlWSrKmxAgBJJEgMg9STTvI69xBxWfdh1N0CsQ/BrDuO4DSvoGIbDNCBC5b3PtUtkIAULgwSJA5P5gq54KTggQAtuMAJH7NtculY0QIAQeLAJE7g+26qnghAAhsM0IELlvc+1S2QgBQuDBIkDk/mCrngpOCBAC24wAkfsW1a71o4Pmuy5Grv3qg4vHT8MycHKV9e0VgqWnp4QAITAfASL3+RhtSAoT5680aI/r6PFj2aL+fW/AeNnBeO4gEJUJ/UYIEAJZRoDIPcu1k4ps/Nix7dqCNRWYKFNCYMMRIHLf8ApcVHy+z7R+1N2aLVgXLT+lJwQeCgJE7pte0/LA78orfuh3Ce2oDa/4CTKPy2iP/IW2MHxfRemgiMJuHT1lih91UN0/xHnAGcj+HJa9//ULODoCfv5cNgd6jxAgBIIQIHIPQmWDng3+NFA+G8Ka9FBXh/GOzlF/UUXV97+8n0Nur4Sy+/lZH/+7rEPnNvgfLRjigAib3dWhzA7Zp4DLv/4F/PYb8ORJCplTloTAA0aAyH2jK3+E83fn9gk93xsoRB3rdddFjR/DF+BsHV800b42MTgtgO1UcS7ScNs8A/ujk6oJ57//Bf7xD+A//9noiiDhCYHMIUDknrkqWU6g4ZkBxsLPOuXnPgoNPyz7SR/1HQbtqAuht5vnqDKG4tkw7A16TggQAhlGgMg9w5UTXzQT5y8YmDrg2W+WOSgi/0hH6WDWVFM9kye4C82fofJJHjRwWYfGDDSulQE+vjSUkhAgBNaPAJH7+utgdQmsLmr81KRjSdS+HAenOqqf5nhFJbkffuFkbqH3hptoauje+TKjW0KAENgIBIjcN6Ka5ggptGwNta8BWvZtG+UnDQzmkrSF/mkRub0Kqs915PgpTynb2+eUin4mBAiBFRAgcl8BvKy8KqJaAu3tFvrHMbR2fij2ZQ/9Gzk43LRQZBqqf2fjLMis4ExyEAKbhACR+ybVliOrhf5bHYwV0bruorbDoL/uzUa1KK09QKF3suIXVyfQGIP+tg9rMkL7QEPuj7YdheNJSDeEACGwKQgQuW9KTXnk5CYUAxrToD0qova+H7BPjIXeax21rzG0b2uA5oGO4osaDn8vh+TnEYBuCAFCIOMIELlnvIKWF8/C6HIQQPrL50hvEgKEwOYgQOS+OXVFkhIChAAhEBsBIvfYUFFCQoAQIAQ2BwEi982pK5KUECAECIHYCBC5x4aKEhIChAAhsDkI/D9FGNSF1LxrIgAAAABJRU5ErkJggg==)"
      ]
    },
    {
      "cell_type": "markdown",
      "metadata": {
        "id": "hBbuFfY0SwK9"
      },
      "source": [
        "where Δ denotes the margin. The margin parameter is chosen as a hyperparameter."
      ]
    },
    {
      "cell_type": "code",
      "metadata": {
        "id": "X2LzOwux0DU4"
      },
      "source": [
        "def multiclass_svm_loss(q_circuits, all_params, feature_vecs, true_labels):\n",
        "    loss = 0\n",
        "    num_samples = len(true_labels)\n",
        "    for i, feature_vec in enumerate(feature_vecs):\n",
        "        # Compute the score given to this sample by the classifier corresponding to the\n",
        "        # true label. So for a true label of 1, get the score computed by classifer 1,\n",
        "        # which distinguishes between \"class 1\" or \"not class 1\".\n",
        "        s_true = variational_classifier(\n",
        "            q_circuits[int(true_labels[i])],\n",
        "            (all_params[0][int(true_labels[i])], all_params[1][int(true_labels[i])]),\n",
        "            feature_vec,\n",
        "        )\n",
        "        s_true = s_true.float()\n",
        "        li = 0\n",
        "\n",
        "        # Get the scores computed for this sample by the other classifiers\n",
        "        for j in range(num_classes):\n",
        "            if j != int(true_labels[i]):\n",
        "                s_j = variational_classifier(\n",
        "                    q_circuits[j], (all_params[0][j], all_params[1][j]), feature_vec\n",
        "                )\n",
        "                s_j = s_j.float()\n",
        "                li += torch.max(torch.zeros(1).float(), s_j - s_true + margin)\n",
        "        loss += li\n",
        "\n",
        "    return loss / num_samples"
      ],
      "execution_count": 10,
      "outputs": []
    },
    {
      "cell_type": "markdown",
      "metadata": {
        "id": "L9glMi2HS9lE"
      },
      "source": [
        "###Classification Function"
      ]
    },
    {
      "cell_type": "markdown",
      "metadata": {
        "id": "FW_dduJTS-qM"
      },
      "source": [
        "Next, we use the learned models to classify our samples. For a given sample, compute the score given to it by classifier i, which quantifies how likely it is that this sample belongs to class i. For each sample, return the class with the highest score."
      ]
    },
    {
      "cell_type": "code",
      "metadata": {
        "id": "J2tFqDhX0Jsw"
      },
      "source": [
        "def classify(q_circuits, all_params, feature_vecs, labels):\n",
        "    predicted_labels = []\n",
        "    for i, feature_vec in enumerate(feature_vecs):\n",
        "        scores = np.zeros(num_classes)\n",
        "        for c in range(num_classes):\n",
        "            score = variational_classifier(\n",
        "                q_circuits[c], (all_params[0][c], all_params[1][c]), feature_vec\n",
        "            )\n",
        "            scores[c] = float(score)\n",
        "        pred_class = np.argmax(scores)\n",
        "        predicted_labels.append(pred_class)\n",
        "    return predicted_labels\n",
        "\n",
        "\n",
        "def accuracy(labels, hard_predictions):\n",
        "    loss = 0\n",
        "    for l, p in zip(labels, hard_predictions):\n",
        "        if torch.abs(l - p) < 1e-5:\n",
        "            loss = loss + 1\n",
        "    loss = loss / labels.shape[0]\n",
        "    return loss"
      ],
      "execution_count": 11,
      "outputs": []
    },
    {
      "cell_type": "markdown",
      "metadata": {
        "id": "R2q2sh0WUQER"
      },
      "source": [
        "###Data and Processing"
      ]
    },
    {
      "cell_type": "markdown",
      "metadata": {
        "id": "SVYqDaGHUQHm"
      },
      "source": [
        "Now I put the input and output states together and normalize the features so that the sum of the feature elements squared equals one (l2 norm is one)."
      ]
    },
    {
      "cell_type": "code",
      "metadata": {
        "id": "gLWCE4TN7L3d"
      },
      "source": [
        "# Now I will be using the v vectors that I have defined at the beginning, I constructed a vector x, which contain a multiple v0,v1,v2 and v3.\n",
        "#I constructed a vector y,which contains numbers : 0 => out0, 1 => out1, 2 => out2, 3=> out3.\n",
        "#Here, our data is perfect : for every vi corresponds the label of the outi.\n",
        "\n",
        "def load_and_process_data():\n",
        "    x = [v0,v1,v2,v3,v0,v1,v2,v3,v0,v1,v2,v3,v0,v1,v2,v3,v0,v1,v2,v3,v0,v1,v2,v3,v0,v1,v2,v3,v0,v1,v2,v3,v0,v1,v2,v3,v0,v1,v2,v3,v0,v1,v2,v3,v0,v1,v2,v3]\n",
        "    #Let's  define the y as the labels 0,1,2,3\n",
        "    y = [0,1,2,3,0,1,2,3,0,1,2,3,0,1,2,3,0,1,2,3,0,1,2,3,0,1,2,3,0,1,2,3,0,1,2,3,0,1,2,3,0,1,2,3,0,1,2,3]\n",
        "    X = torch.tensor(x)\n",
        "    print(\"First X sample, original  :\", X[0])\n",
        "\n",
        "    # normalize each input\n",
        "    normalization = torch.sqrt(torch.sum(X ** 2, dim=1))\n",
        "    X_norm = X / normalization.reshape(len(X), 1)\n",
        "    print(\"First X sample, normalized:\", X_norm[0])\n",
        "\n",
        "    Y = torch.tensor(y)\n",
        "    return X, Y\n",
        "\n",
        "\n",
        "# Create a train and test split.\n",
        "def split_data(feature_vecs, Y):\n",
        "    num_data = len(Y)\n",
        "    num_train = int(train_split * num_data)\n",
        "    index = np.random.permutation(range(num_data))\n",
        "    feat_vecs_train = feature_vecs[index[:num_train]]\n",
        "    Y_train = Y[index[:num_train]]\n",
        "    feat_vecs_test = feature_vecs[index[num_train:]]\n",
        "    Y_test = Y[index[num_train:]]\n",
        "    return feat_vecs_train, feat_vecs_test, Y_train, Y_test"
      ],
      "execution_count": 12,
      "outputs": []
    },
    {
      "cell_type": "markdown",
      "metadata": {
        "id": "lwc62Q1OUrYh"
      },
      "source": [
        "###Training Procedure"
      ]
    },
    {
      "cell_type": "markdown",
      "metadata": {
        "id": "OUw-JxVkUrcN"
      },
      "source": [
        "In the training procedure, we begin by randomly initializing the parameters we want to learn (variational circuit weights and classical bias). We set the requires grad flag to True because these are the variables we want to optimize. We use minibatch training, which computes the average loss for a batch of samples and bases the optimization step on it. With the default parameters, the total training time is about 15 minutes."
      ]
    },
    {
      "cell_type": "code",
      "metadata": {
        "colab": {
          "base_uri": "https://localhost:8080/",
          "height": 1000
        },
        "id": "oZzVL7H40qqL",
        "outputId": "0becbf5c-1967-4af6-d016-ebcbbcfd4e45"
      },
      "source": [
        "def training(features, Y):\n",
        "    num_data = Y.shape[0]\n",
        "    feat_vecs_train, feat_vecs_test, Y_train, Y_test = split_data(features, Y)\n",
        "    num_train = Y_train.shape[0]\n",
        "    q_circuits = qnodes\n",
        "\n",
        "    # Initialize the parameters\n",
        "    all_weights = [\n",
        "        Variable(0.1 * torch.randn(num_layers, num_qubits, 3), requires_grad=True)\n",
        "        for i in range(num_classes)\n",
        "    ]\n",
        "    all_bias = [Variable(0.1 * torch.ones(1), requires_grad=True) for i in range(num_classes)]\n",
        "    optimizer = optim.Adam(all_weights + all_bias, lr=lr_adam)\n",
        "    params = (all_weights, all_bias)\n",
        "    print(\"Num params: \", 3 * num_layers * num_qubits * 3 + 3)\n",
        "\n",
        "    costs, train_acc, test_acc = [], [], []\n",
        "\n",
        "    # train the variational classifier\n",
        "    for it in range(total_iterations):\n",
        "        batch_index = np.random.randint(0, num_train, (batch_size,))\n",
        "        feat_vecs_train_batch = feat_vecs_train[batch_index]\n",
        "        Y_train_batch = Y_train[batch_index]\n",
        "\n",
        "        optimizer.zero_grad()\n",
        "        curr_cost = multiclass_svm_loss(q_circuits, params, feat_vecs_train_batch, Y_train_batch)\n",
        "        curr_cost.backward()\n",
        "        optimizer.step()\n",
        "\n",
        "        # Compute predictions on train and validation set\n",
        "        predictions_train = classify(q_circuits, params, feat_vecs_train, Y_train)\n",
        "        predictions_test = classify(q_circuits, params, feat_vecs_test, Y_test)\n",
        "        acc_train = accuracy(Y_train, predictions_train)\n",
        "        acc_test = accuracy(Y_test, predictions_test)\n",
        "\n",
        "        print(\n",
        "            \"Iter: {:5d} | Cost: {:0.7f} | Acc train: {:0.7f} | Acc test: {:0.7f} \"\n",
        "            \"\".format(it + 1, curr_cost.item(), acc_train, acc_test)\n",
        "        )\n",
        "\n",
        "        costs.append(curr_cost.item())\n",
        "        train_acc.append(acc_train)\n",
        "        test_acc.append(acc_test)\n",
        "\n",
        "    return costs, train_acc, test_acc\n",
        "\n",
        "\n",
        "# We now run our training algorithm and plot the results. Note that\n",
        "# for plotting, the matplotlib library is required\n",
        "\n",
        "features, Y = load_and_process_data()\n",
        "costs, train_acc, test_acc = training(features, Y)\n",
        "\n",
        "import matplotlib.pyplot as plt\n",
        "\n",
        "fig, ax1 = plt.subplots()\n",
        "iters = np.arange(0, total_iterations, 1)\n",
        "colors = [\"tab:red\", \"tab:blue\"]\n",
        "ax1.set_xlabel(\"Iteration\", fontsize=17)\n",
        "ax1.set_ylabel(\"Cost\", fontsize=17, color=colors[0])\n",
        "ax1.plot(iters, costs, color=colors[0], linewidth=4)\n",
        "ax1.tick_params(axis=\"y\", labelsize=14, labelcolor=colors[0])\n",
        "\n",
        "ax2 = ax1.twinx()\n",
        "ax2.set_ylabel(\"Test Acc.\", fontsize=17, color=colors[1])\n",
        "ax2.plot(iters, test_acc, color=colors[1], linewidth=4)\n",
        "\n",
        "ax2.tick_params(axis=\"x\", labelsize=14)\n",
        "ax2.tick_params(axis=\"y\", labelsize=14, labelcolor=colors[1])\n",
        "\n",
        "plt.grid(False)\n",
        "plt.tight_layout()\n",
        "plt.show()"
      ],
      "execution_count": 13,
      "outputs": [
        {
          "output_type": "stream",
          "name": "stdout",
          "text": [
            "First X sample, original  : tensor([-1.7222, -0.3406, -1.4972, -1.1124, -1.1579,  0.8517, -1.7138,  1.0002,\n",
            "        -2.0836,  0.9129,  0.0740,  0.3983,  0.7616, -0.7447, -0.5449, -0.0629],\n",
            "       dtype=torch.float64)\n",
            "First X sample, normalized: tensor([-0.3916, -0.0775, -0.3405, -0.2529, -0.2633,  0.1937, -0.3897,  0.2274,\n",
            "        -0.4738,  0.2076,  0.0168,  0.0906,  0.1732, -0.1693, -0.1239, -0.0143],\n",
            "       dtype=torch.float64)\n",
            "Num params:  219\n"
          ]
        },
        {
          "output_type": "stream",
          "name": "stderr",
          "text": [
            "/usr/local/lib/python3.7/dist-packages/pennylane/templates/embeddings/amplitude.py:136: UserWarning: The pad argument will be replaced by the pad_with option in future versions of PennyLane.\n",
            "  UserWarning,\n",
            "/usr/local/lib/python3.7/dist-packages/torch/autograd/__init__.py:149: UserWarning: Casting complex values to real discards the imaginary part (Triggered internally at  /pytorch/aten/src/ATen/native/Copy.cpp:240.)\n",
            "  allow_unreachable=True, accumulate_grad=True)  # allow_unreachable flag\n"
          ]
        },
        {
          "output_type": "stream",
          "name": "stdout",
          "text": [
            "Iter:     1 | Cost: 0.5216383 | Acc train: 0.2222222 | Acc test: 0.3333333 \n",
            "Iter:     2 | Cost: 0.3587002 | Acc train: 0.4722222 | Acc test: 0.5833333 \n",
            "Iter:     3 | Cost: 0.2492256 | Acc train: 0.6944444 | Acc test: 0.9166667 \n",
            "Iter:     4 | Cost: 0.1503000 | Acc train: 0.6944444 | Acc test: 0.9166667 \n",
            "Iter:     5 | Cost: 0.0889452 | Acc train: 0.6944444 | Acc test: 0.9166667 \n",
            "Iter:     6 | Cost: 0.0521162 | Acc train: 1.0000000 | Acc test: 1.0000000 \n",
            "Iter:     7 | Cost: 0.0329585 | Acc train: 1.0000000 | Acc test: 1.0000000 \n",
            "Iter:     8 | Cost: 0.0435023 | Acc train: 1.0000000 | Acc test: 1.0000000 \n",
            "Iter:     9 | Cost: 0.0038576 | Acc train: 1.0000000 | Acc test: 1.0000000 \n",
            "Iter:    10 | Cost: 0.0000000 | Acc train: 1.0000000 | Acc test: 1.0000000 \n",
            "Iter:    11 | Cost: 0.0000000 | Acc train: 1.0000000 | Acc test: 1.0000000 \n",
            "Iter:    12 | Cost: 0.0000000 | Acc train: 1.0000000 | Acc test: 1.0000000 \n",
            "Iter:    13 | Cost: 0.0000000 | Acc train: 1.0000000 | Acc test: 1.0000000 \n",
            "Iter:    14 | Cost: 0.0000000 | Acc train: 1.0000000 | Acc test: 1.0000000 \n",
            "Iter:    15 | Cost: 0.0000000 | Acc train: 1.0000000 | Acc test: 1.0000000 \n",
            "Iter:    16 | Cost: 0.0000000 | Acc train: 1.0000000 | Acc test: 1.0000000 \n",
            "Iter:    17 | Cost: 0.0000000 | Acc train: 1.0000000 | Acc test: 1.0000000 \n",
            "Iter:    18 | Cost: 0.0000000 | Acc train: 1.0000000 | Acc test: 1.0000000 \n",
            "Iter:    19 | Cost: 0.0000000 | Acc train: 1.0000000 | Acc test: 1.0000000 \n",
            "Iter:    20 | Cost: 0.0000000 | Acc train: 1.0000000 | Acc test: 1.0000000 \n",
            "Iter:    21 | Cost: 0.0000000 | Acc train: 1.0000000 | Acc test: 1.0000000 \n",
            "Iter:    22 | Cost: 0.0000000 | Acc train: 1.0000000 | Acc test: 1.0000000 \n",
            "Iter:    23 | Cost: 0.0000000 | Acc train: 1.0000000 | Acc test: 1.0000000 \n",
            "Iter:    24 | Cost: 0.0000000 | Acc train: 1.0000000 | Acc test: 1.0000000 \n",
            "Iter:    25 | Cost: 0.0000000 | Acc train: 1.0000000 | Acc test: 1.0000000 \n",
            "Iter:    26 | Cost: 0.0000000 | Acc train: 1.0000000 | Acc test: 1.0000000 \n",
            "Iter:    27 | Cost: 0.0000000 | Acc train: 1.0000000 | Acc test: 1.0000000 \n",
            "Iter:    28 | Cost: 0.0000000 | Acc train: 1.0000000 | Acc test: 1.0000000 \n",
            "Iter:    29 | Cost: 0.0000000 | Acc train: 1.0000000 | Acc test: 1.0000000 \n",
            "Iter:    30 | Cost: 0.0000000 | Acc train: 1.0000000 | Acc test: 1.0000000 \n"
          ]
        },
        {
          "output_type": "display_data",
          "data": {
            "image/png": "[encoded data removed]",
            "text/plain": [
              "<Figure size 432x288 with 2 Axes>"
            ]
          },
          "metadata": {
            "needs_background": "light"
          }
        }
      ]
    },
    {
      "cell_type": "markdown",
      "metadata": {
        "id": "Ik0P8S18YdzA"
      },
      "source": [
        "In this case, we used perfect data. Because each input data corresponds to a predetermined output data. The machine learning model overfits, returning accuracy train = 1 and accuracy test = 1. In fact, the values in the train data are similar to those in the test data."
      ]
    },
    {
      "cell_type": "markdown",
      "metadata": {
        "id": "3bLZ65hO9gUL"
      },
      "source": [
        "###What would happen if you provided a different state?"
      ]
    },
    {
      "cell_type": "code",
      "metadata": {
        "colab": {
          "base_uri": "https://localhost:8080/"
        },
        "id": "mGsssZ289eyd",
        "outputId": "e474c897-4e70-463a-d968-ece0b99b6e7c"
      },
      "source": [
        "# Here, I define an exemple of a different input state\n",
        "vdiff = np.random.normal(1.5, 2.5, 16)\n",
        "vdiff"
      ],
      "execution_count": 14,
      "outputs": [
        {
          "output_type": "execute_result",
          "data": {
            "text/plain": [
              "array([-0.46271633, -2.51323517,  5.07960057, -3.35547531,  4.34988348,\n",
              "       -0.04291483, -2.93889648, -1.29551368, -2.51596753, -0.5366902 ,\n",
              "        2.30320226,  1.19017389,  1.55530314,  0.69678373,  3.23154513,\n",
              "        0.61619121])"
            ]
          },
          "metadata": {},
          "execution_count": 14
        }
      ]
    },
    {
      "cell_type": "markdown",
      "metadata": {
        "id": "MdrKPIvfVHJU"
      },
      "source": [
        "1.I put the vdiff randomly in the train and test data :\n",
        "\n"
      ]
    },
    {
      "cell_type": "code",
      "metadata": {
        "id": "7Lvw4vTM00Be"
      },
      "source": [
        "def load_and_process_data():\n",
        "\n",
        "    x = [v0,v1,v2,v3,v0,v1,v2,v3,v0,v1,v2,vdiff,v0,vdiff,v2,v3,v0,v1,v2,v3,v0,v1,v2,v3,v0,v1,v2,v3,v0,v1,v2,v3,v0,v1,v2,v3,v0,v1,v2,v3,v0,v1,vdiff,v3,v0,v1,v2,v3]\n",
        "    #Let's  define the y as the lavels 0,1,2,3\n",
        "    y = [0,1,2,3,0,1,2,3,0,1,2,3,0,1,2,3,0,1,2,3,0,1,2,3,0,1,2,3,0,1,2,3,0,1,2,3,0,1,2,3,0,1,2,3,0,1,2,3]\n",
        "\n",
        "    X = torch.tensor(x)\n",
        "    print(\"First X sample, original  :\", X[0])\n",
        "\n",
        "    # normalize each input\n",
        "    normalization = torch.sqrt(torch.sum(X ** 2, dim=1))\n",
        "    X_norm = X / normalization.reshape(len(X), 1)\n",
        "    print(\"First X sample, normalized:\", X_norm[0])\n",
        "\n",
        "    Y = torch.tensor(y)\n",
        "    return X, Y\n",
        "\n",
        "\n",
        "# Create a train and test split.\n",
        "def split_data(feature_vecs, Y):\n",
        "    num_data = len(Y)\n",
        "    num_train = int(train_split * num_data)\n",
        "    index = np.random.permutation(range(num_data))\n",
        "    feat_vecs_train = feature_vecs[index[:num_train]]\n",
        "    Y_train = Y[index[:num_train]]\n",
        "    feat_vecs_test = feature_vecs[index[num_train:]]\n",
        "    Y_test = Y[index[num_train:]]\n",
        "    return feat_vecs_train, feat_vecs_test, Y_train, Y_test\n"
      ],
      "execution_count": 15,
      "outputs": []
    },
    {
      "cell_type": "code",
      "metadata": {
        "colab": {
          "base_uri": "https://localhost:8080/",
          "height": 972
        },
        "id": "oHgK3uBz91gT",
        "outputId": "e9de62e4-d08e-44d8-bc89-8d01b529c2a4"
      },
      "source": [
        "def training(features, Y):\n",
        "    num_data = Y.shape[0]\n",
        "    feat_vecs_train, feat_vecs_test, Y_train, Y_test = split_data(features, Y)\n",
        "    num_train = Y_train.shape[0]\n",
        "    q_circuits = qnodes\n",
        "\n",
        "    # Initialize the parameters\n",
        "    all_weights = [\n",
        "        Variable(0.1 * torch.randn(num_layers, num_qubits, 3), requires_grad=True)\n",
        "        for i in range(num_classes)\n",
        "    ]\n",
        "    all_bias = [Variable(0.1 * torch.ones(1), requires_grad=True) for i in range(num_classes)]\n",
        "    optimizer = optim.Adam(all_weights + all_bias, lr=lr_adam)\n",
        "    params = (all_weights, all_bias)\n",
        "    print(\"Num params: \", 3 * num_layers * num_qubits * 3 + 3)\n",
        "\n",
        "    costs, train_acc, test_acc = [], [], []\n",
        "\n",
        "    # train the variational classifier\n",
        "    for it in range(total_iterations):\n",
        "        batch_index = np.random.randint(0, num_train, (batch_size,))\n",
        "        feat_vecs_train_batch = feat_vecs_train[batch_index]\n",
        "        Y_train_batch = Y_train[batch_index]\n",
        "\n",
        "        optimizer.zero_grad()\n",
        "        curr_cost = multiclass_svm_loss(q_circuits, params, feat_vecs_train_batch, Y_train_batch)\n",
        "        curr_cost.backward()\n",
        "        optimizer.step()\n",
        "\n",
        "        # Compute predictions on train and validation set\n",
        "        predictions_train = classify(q_circuits, params, feat_vecs_train, Y_train)\n",
        "        predictions_test = classify(q_circuits, params, feat_vecs_test, Y_test)\n",
        "        acc_train = accuracy(Y_train, predictions_train)\n",
        "        acc_test = accuracy(Y_test, predictions_test)\n",
        "\n",
        "        print(\n",
        "            \"Iter: {:5d} | Cost: {:0.7f} | Acc train: {:0.7f} | Acc test: {:0.7f} \"\n",
        "            \"\".format(it + 1, curr_cost.item(), acc_train, acc_test)\n",
        "        )\n",
        "\n",
        "        costs.append(curr_cost.item())\n",
        "        train_acc.append(acc_train)\n",
        "        test_acc.append(acc_test)\n",
        "\n",
        "    return costs, train_acc, test_acc\n",
        "\n",
        "\n",
        "# We now run our training algorithm and plot the results. Note that\n",
        "# for plotting, the matplotlib library is required\n",
        "\n",
        "features, Y = load_and_process_data()\n",
        "costs, train_acc, test_acc = training(features, Y)\n",
        "\n",
        "import matplotlib.pyplot as plt\n",
        "\n",
        "fig, ax1 = plt.subplots()\n",
        "iters = np.arange(0, total_iterations, 1)\n",
        "colors = [\"tab:red\", \"tab:blue\"]\n",
        "ax1.set_xlabel(\"Iteration\", fontsize=17)\n",
        "ax1.set_ylabel(\"Cost\", fontsize=17, color=colors[0])\n",
        "ax1.plot(iters, costs, color=colors[0], linewidth=4)\n",
        "ax1.tick_params(axis=\"y\", labelsize=14, labelcolor=colors[0])\n",
        "\n",
        "ax2 = ax1.twinx()\n",
        "ax2.set_ylabel(\"Test Acc.\", fontsize=17, color=colors[1])\n",
        "ax2.plot(iters, test_acc, color=colors[1], linewidth=4)\n",
        "\n",
        "ax2.tick_params(axis=\"x\", labelsize=14)\n",
        "ax2.tick_params(axis=\"y\", labelsize=14, labelcolor=colors[1])\n",
        "\n",
        "plt.grid(False)\n",
        "plt.tight_layout()\n",
        "plt.show()"
      ],
      "execution_count": 16,
      "outputs": [
        {
          "output_type": "stream",
          "name": "stdout",
          "text": [
            "First X sample, original  : tensor([-1.7222, -0.3406, -1.4972, -1.1124, -1.1579,  0.8517, -1.7138,  1.0002,\n",
            "        -2.0836,  0.9129,  0.0740,  0.3983,  0.7616, -0.7447, -0.5449, -0.0629],\n",
            "       dtype=torch.float64)\n",
            "First X sample, normalized: tensor([-0.3916, -0.0775, -0.3405, -0.2529, -0.2633,  0.1937, -0.3897,  0.2274,\n",
            "        -0.4738,  0.2076,  0.0168,  0.0906,  0.1732, -0.1693, -0.1239, -0.0143],\n",
            "       dtype=torch.float64)\n",
            "Num params:  219\n"
          ]
        },
        {
          "output_type": "stream",
          "name": "stderr",
          "text": [
            "/usr/local/lib/python3.7/dist-packages/pennylane/templates/embeddings/amplitude.py:136: UserWarning: The pad argument will be replaced by the pad_with option in future versions of PennyLane.\n",
            "  UserWarning,\n"
          ]
        },
        {
          "output_type": "stream",
          "name": "stdout",
          "text": [
            "Iter:     1 | Cost: 0.4321770 | Acc train: 0.2222222 | Acc test: 0.2500000 \n",
            "Iter:     2 | Cost: 0.3666209 | Acc train: 0.7222222 | Acc test: 0.7500000 \n",
            "Iter:     3 | Cost: 0.1642753 | Acc train: 0.9444444 | Acc test: 1.0000000 \n",
            "Iter:     4 | Cost: 0.1978498 | Acc train: 0.9444444 | Acc test: 1.0000000 \n",
            "Iter:     5 | Cost: 0.0836340 | Acc train: 0.9444444 | Acc test: 1.0000000 \n",
            "Iter:     6 | Cost: 0.0301731 | Acc train: 0.9444444 | Acc test: 1.0000000 \n",
            "Iter:     7 | Cost: 0.1440568 | Acc train: 0.9444444 | Acc test: 1.0000000 \n",
            "Iter:     8 | Cost: 0.0010539 | Acc train: 0.9444444 | Acc test: 1.0000000 \n",
            "Iter:     9 | Cost: 0.0000000 | Acc train: 0.9444444 | Acc test: 1.0000000 \n",
            "Iter:    10 | Cost: 0.0000000 | Acc train: 0.9444444 | Acc test: 1.0000000 \n",
            "Iter:    11 | Cost: 0.0000000 | Acc train: 0.9444444 | Acc test: 1.0000000 \n",
            "Iter:    12 | Cost: 0.0431667 | Acc train: 0.9444444 | Acc test: 1.0000000 \n",
            "Iter:    13 | Cost: 0.0000000 | Acc train: 0.9444444 | Acc test: 1.0000000 \n",
            "Iter:    14 | Cost: 0.1288191 | Acc train: 0.9444444 | Acc test: 1.0000000 \n",
            "Iter:    15 | Cost: 0.0000000 | Acc train: 0.9444444 | Acc test: 1.0000000 \n",
            "Iter:    16 | Cost: 0.0321338 | Acc train: 0.9444444 | Acc test: 1.0000000 \n",
            "Iter:    17 | Cost: 0.0000000 | Acc train: 0.9444444 | Acc test: 1.0000000 \n",
            "Iter:    18 | Cost: 0.0000000 | Acc train: 0.9444444 | Acc test: 1.0000000 \n",
            "Iter:    19 | Cost: 0.0749824 | Acc train: 0.9444444 | Acc test: 1.0000000 \n",
            "Iter:    20 | Cost: 0.1044901 | Acc train: 0.9444444 | Acc test: 1.0000000 \n",
            "Iter:    21 | Cost: 0.0000000 | Acc train: 0.9444444 | Acc test: 1.0000000 \n",
            "Iter:    22 | Cost: 0.0369626 | Acc train: 0.9444444 | Acc test: 1.0000000 \n",
            "Iter:    23 | Cost: 0.0343119 | Acc train: 0.9444444 | Acc test: 1.0000000 \n",
            "Iter:    24 | Cost: 0.0491144 | Acc train: 0.9444444 | Acc test: 1.0000000 \n",
            "Iter:    25 | Cost: 0.0000000 | Acc train: 0.9444444 | Acc test: 1.0000000 \n",
            "Iter:    26 | Cost: 0.0674090 | Acc train: 0.9444444 | Acc test: 1.0000000 \n",
            "Iter:    27 | Cost: 0.0531367 | Acc train: 0.9444444 | Acc test: 1.0000000 \n",
            "Iter:    28 | Cost: 0.0000000 | Acc train: 0.9444444 | Acc test: 1.0000000 \n",
            "Iter:    29 | Cost: 0.0332987 | Acc train: 0.9444444 | Acc test: 1.0000000 \n",
            "Iter:    30 | Cost: 0.0342861 | Acc train: 0.9444444 | Acc test: 1.0000000 \n"
          ]
        },
        {
          "output_type": "display_data",
          "data": {
            "image/png": "[encoded data removed]",
            "text/plain": [
              "<Figure size 432x288 with 2 Axes>"
            ]
          },
          "metadata": {
            "needs_background": "light"
          }
        }
      ]
    },
    {
      "cell_type": "markdown",
      "metadata": {
        "id": "Qyvb0K0wZBZm"
      },
      "source": [
        "In this case, we have two vdiff values in the input state and one vdiff value in the output state. As a result, this change has an effect on the accuracy. In fact, the accuracy train decreased to 0.94 while the accuracy test remained constant at 1. Our model overfits."
      ]
    },
    {
      "cell_type": "markdown",
      "metadata": {
        "id": "BvYcl_aGV7qi"
      },
      "source": [
        "2.I put the vdiff randomly only in the train data :"
      ]
    },
    {
      "cell_type": "code",
      "metadata": {
        "id": "uR_Fs_LPVUnE"
      },
      "source": [
        "def load_and_process_data():\n",
        "    x = [v0,v1,v2,v3,v0,v1,v2,v3,v0,v1,v2,vdiff,v0,vdiff,v2,v3,v0,v1,v2,v3,v0,v1,vdiff,v3,v0,v1,v2,v3,v0,v1,v2,v3,v0,v1,v2,v3,v0,v1,v2,v3,v0,v1,v2,v3,v0,v1,v2,v3]\n",
        "    #Let's  define the y as the lavels 0,1,2,3\n",
        "    y = [0,1,2,3,0,1,2,3,0,1,2,3,0,1,2,3,0,1,2,3,0,1,2,3,0,1,2,3,0,1,2,3,0,1,2,3,0,1,2,3,0,1,2,3,0,1,2,3]\n",
        "\n",
        "    X = torch.tensor(x)\n",
        "    print(\"First X sample, original  :\", X[0])\n",
        "\n",
        "    # normalize each input\n",
        "    normalization = torch.sqrt(torch.sum(X ** 2, dim=1))\n",
        "    X_norm = X / normalization.reshape(len(X), 1)\n",
        "    print(\"First X sample, normalized:\", X_norm[0])\n",
        "\n",
        "    Y = torch.tensor(y)\n",
        "    return X, Y\n",
        "\n",
        "\n",
        "# Create a train and test split.\n",
        "def split_data(feature_vecs, Y):\n",
        "    num_data = len(Y)\n",
        "    num_train = int(train_split * num_data)\n",
        "    index = np.random.permutation(range(num_data))\n",
        "    feat_vecs_train = feature_vecs[index[:num_train]]\n",
        "    Y_train = Y[index[:num_train]]\n",
        "    feat_vecs_test = feature_vecs[index[num_train:]]\n",
        "    Y_test = Y[index[num_train:]]\n",
        "    return feat_vecs_train, feat_vecs_test, Y_train, Y_test\n"
      ],
      "execution_count": 17,
      "outputs": []
    },
    {
      "cell_type": "code",
      "metadata": {
        "colab": {
          "base_uri": "https://localhost:8080/",
          "height": 972
        },
        "id": "nmp9YZQjWKKa",
        "outputId": "0c954f80-ba91-427a-b9f2-ae22a719f45f"
      },
      "source": [
        "def training(features, Y):\n",
        "    num_data = Y.shape[0]\n",
        "    feat_vecs_train, feat_vecs_test, Y_train, Y_test = split_data(features, Y)\n",
        "    num_train = Y_train.shape[0]\n",
        "    q_circuits = qnodes\n",
        "\n",
        "    # Initialize the parameters\n",
        "    all_weights = [\n",
        "        Variable(0.1 * torch.randn(num_layers, num_qubits, 3), requires_grad=True)\n",
        "        for i in range(num_classes)\n",
        "    ]\n",
        "    all_bias = [Variable(0.1 * torch.ones(1), requires_grad=True) for i in range(num_classes)]\n",
        "    optimizer = optim.Adam(all_weights + all_bias, lr=lr_adam)\n",
        "    params = (all_weights, all_bias)\n",
        "    print(\"Num params: \", 3 * num_layers * num_qubits * 3 + 3)\n",
        "\n",
        "    costs, train_acc, test_acc = [], [], []\n",
        "\n",
        "    # train the variational classifier\n",
        "    for it in range(total_iterations):\n",
        "        batch_index = np.random.randint(0, num_train, (batch_size,))\n",
        "        feat_vecs_train_batch = feat_vecs_train[batch_index]\n",
        "        Y_train_batch = Y_train[batch_index]\n",
        "\n",
        "        optimizer.zero_grad()\n",
        "        curr_cost = multiclass_svm_loss(q_circuits, params, feat_vecs_train_batch, Y_train_batch)\n",
        "        curr_cost.backward()\n",
        "        optimizer.step()\n",
        "\n",
        "        # Compute predictions on train and validation set\n",
        "        predictions_train = classify(q_circuits, params, feat_vecs_train, Y_train)\n",
        "        predictions_test = classify(q_circuits, params, feat_vecs_test, Y_test)\n",
        "        acc_train = accuracy(Y_train, predictions_train)\n",
        "        acc_test = accuracy(Y_test, predictions_test)\n",
        "\n",
        "        print(\n",
        "            \"Iter: {:5d} | Cost: {:0.7f} | Acc train: {:0.7f} | Acc test: {:0.7f} \"\n",
        "            \"\".format(it + 1, curr_cost.item(), acc_train, acc_test)\n",
        "        )\n",
        "\n",
        "        costs.append(curr_cost.item())\n",
        "        train_acc.append(acc_train)\n",
        "        test_acc.append(acc_test)\n",
        "\n",
        "    return costs, train_acc, test_acc\n",
        "\n",
        "\n",
        "# We now run our training algorithm and plot the results. Note that\n",
        "# for plotting, the matplotlib library is required\n",
        "\n",
        "features, Y = load_and_process_data()\n",
        "costs, train_acc, test_acc = training(features, Y)\n",
        "\n",
        "import matplotlib.pyplot as plt\n",
        "\n",
        "fig, ax1 = plt.subplots()\n",
        "iters = np.arange(0, total_iterations, 1)\n",
        "colors = [\"tab:red\", \"tab:blue\"]\n",
        "ax1.set_xlabel(\"Iteration\", fontsize=17)\n",
        "ax1.set_ylabel(\"Cost\", fontsize=17, color=colors[0])\n",
        "ax1.plot(iters, costs, color=colors[0], linewidth=4)\n",
        "ax1.tick_params(axis=\"y\", labelsize=14, labelcolor=colors[0])\n",
        "\n",
        "ax2 = ax1.twinx()\n",
        "ax2.set_ylabel(\"Test Acc.\", fontsize=17, color=colors[1])\n",
        "ax2.plot(iters, test_acc, color=colors[1], linewidth=4)\n",
        "\n",
        "ax2.tick_params(axis=\"x\", labelsize=14)\n",
        "ax2.tick_params(axis=\"y\", labelsize=14, labelcolor=colors[1])\n",
        "\n",
        "plt.grid(False)\n",
        "plt.tight_layout()\n",
        "plt.show()"
      ],
      "execution_count": 18,
      "outputs": [
        {
          "output_type": "stream",
          "name": "stdout",
          "text": [
            "First X sample, original  : tensor([-1.7222, -0.3406, -1.4972, -1.1124, -1.1579,  0.8517, -1.7138,  1.0002,\n",
            "        -2.0836,  0.9129,  0.0740,  0.3983,  0.7616, -0.7447, -0.5449, -0.0629],\n",
            "       dtype=torch.float64)\n",
            "First X sample, normalized: tensor([-0.3916, -0.0775, -0.3405, -0.2529, -0.2633,  0.1937, -0.3897,  0.2274,\n",
            "        -0.4738,  0.2076,  0.0168,  0.0906,  0.1732, -0.1693, -0.1239, -0.0143],\n",
            "       dtype=torch.float64)\n",
            "Num params:  219\n"
          ]
        },
        {
          "output_type": "stream",
          "name": "stderr",
          "text": [
            "/usr/local/lib/python3.7/dist-packages/pennylane/templates/embeddings/amplitude.py:136: UserWarning: The pad argument will be replaced by the pad_with option in future versions of PennyLane.\n",
            "  UserWarning,\n"
          ]
        },
        {
          "output_type": "stream",
          "name": "stdout",
          "text": [
            "Iter:     1 | Cost: 0.7447639 | Acc train: 0.0277778 | Acc test: 0.0000000 \n",
            "Iter:     2 | Cost: 0.4623765 | Acc train: 0.0277778 | Acc test: 0.0000000 \n",
            "Iter:     3 | Cost: 0.3458409 | Acc train: 0.2777778 | Acc test: 0.1666667 \n",
            "Iter:     4 | Cost: 0.1854157 | Acc train: 0.4444444 | Acc test: 0.5833333 \n",
            "Iter:     5 | Cost: 0.1929822 | Acc train: 0.9722222 | Acc test: 0.9166667 \n",
            "Iter:     6 | Cost: 0.0867039 | Acc train: 0.9722222 | Acc test: 0.9166667 \n",
            "Iter:     7 | Cost: 0.0579358 | Acc train: 0.9722222 | Acc test: 0.9166667 \n",
            "Iter:     8 | Cost: 0.1025927 | Acc train: 0.9722222 | Acc test: 0.9166667 \n",
            "Iter:     9 | Cost: 0.0165846 | Acc train: 0.9722222 | Acc test: 0.9166667 \n",
            "Iter:    10 | Cost: 0.0023857 | Acc train: 0.9722222 | Acc test: 0.9166667 \n",
            "Iter:    11 | Cost: 0.1306581 | Acc train: 0.9722222 | Acc test: 0.9166667 \n",
            "Iter:    12 | Cost: 0.0000000 | Acc train: 0.9722222 | Acc test: 0.9166667 \n",
            "Iter:    13 | Cost: 0.1121446 | Acc train: 0.9722222 | Acc test: 0.9166667 \n",
            "Iter:    14 | Cost: 0.0000000 | Acc train: 0.9722222 | Acc test: 0.9166667 \n",
            "Iter:    15 | Cost: 0.0000000 | Acc train: 0.9722222 | Acc test: 0.9166667 \n",
            "Iter:    16 | Cost: 0.0000000 | Acc train: 0.9722222 | Acc test: 0.9166667 \n",
            "Iter:    17 | Cost: 0.0315342 | Acc train: 0.9722222 | Acc test: 0.9166667 \n",
            "Iter:    18 | Cost: 0.0000000 | Acc train: 0.9722222 | Acc test: 0.9166667 \n",
            "Iter:    19 | Cost: 0.0042271 | Acc train: 0.9722222 | Acc test: 0.9166667 \n",
            "Iter:    20 | Cost: 0.0000000 | Acc train: 0.9722222 | Acc test: 0.9166667 \n",
            "Iter:    21 | Cost: 0.0235651 | Acc train: 0.9722222 | Acc test: 0.9166667 \n",
            "Iter:    22 | Cost: 0.0000000 | Acc train: 0.9722222 | Acc test: 0.9166667 \n",
            "Iter:    23 | Cost: 0.0209636 | Acc train: 0.9722222 | Acc test: 0.9166667 \n",
            "Iter:    24 | Cost: 0.0300000 | Acc train: 0.9722222 | Acc test: 0.9166667 \n",
            "Iter:    25 | Cost: 0.0000000 | Acc train: 0.9722222 | Acc test: 0.9166667 \n",
            "Iter:    26 | Cost: 0.0000000 | Acc train: 0.9722222 | Acc test: 0.9166667 \n",
            "Iter:    27 | Cost: 0.0154952 | Acc train: 0.9722222 | Acc test: 0.9166667 \n",
            "Iter:    28 | Cost: 0.0000000 | Acc train: 0.9722222 | Acc test: 0.9166667 \n",
            "Iter:    29 | Cost: 0.0000000 | Acc train: 0.9722222 | Acc test: 0.9166667 \n",
            "Iter:    30 | Cost: 0.0000000 | Acc train: 0.9722222 | Acc test: 0.9166667 \n"
          ]
        },
        {
          "output_type": "display_data",
          "data": {
            "image/png": "[encoded data removed]",
            "text/plain": [
              "<Figure size 432x288 with 2 Axes>"
            ]
          },
          "metadata": {
            "needs_background": "light"
          }
        }
      ]
    },
    {
      "cell_type": "markdown",
      "metadata": {
        "id": "wsJ2cW81ZgTK"
      },
      "source": [
        "In this case, we have three vdiff values in the train data and none in the test data. As a result, this change has an effect on the accuracy. In fact, the accuracy train has dropped to 0.97, while the accuracy test has dropped to 0.91. Our model overfits."
      ]
    },
    {
      "cell_type": "markdown",
      "metadata": {
        "id": "pVUKtKnfWUte"
      },
      "source": [
        "3.I put the vdiff randomly only in the test data :"
      ]
    },
    {
      "cell_type": "code",
      "metadata": {
        "id": "t9wjlf7IWUFH"
      },
      "source": [
        "def load_and_process_data():\n",
        "    x = [v0,v1,v2,v3,v0,v1,v2,v3,v0,v1,v2,vdiff,v0,vdiff,v2,v3,v0,v1,v2,v3,v0,v1,v2,v3,v0,v1,v2,v3,v0,v1,v2,v3,v0,v1,v2,v3,v0,v1,vdiff,v3,v0,v1,vdiff,v3,v0,v1,v2,vdiff]\n",
        "     #Let's  define the y as the lavels 0,1,2,3\n",
        "    y = [0,1,2,3,0,1,2,3,0,1,2,3,0,1,2,3,0,1,2,3,0,1,2,3,0,1,2,3,0,1,2,3,0,1,2,3,0,1,2,3,0,1,2,3,0,1,2,3]\n",
        "\n",
        "\n",
        "    X = torch.tensor(x)\n",
        "    print(\"First X sample, original  :\", X[0])\n",
        "\n",
        "    # normalize each input\n",
        "    normalization = torch.sqrt(torch.sum(X ** 2, dim=1))\n",
        "    X_norm = X / normalization.reshape(len(X), 1)\n",
        "    print(\"First X sample, normalized:\", X_norm[0])\n",
        "\n",
        "    Y = torch.tensor(y)\n",
        "    return X, Y\n",
        "\n",
        "\n",
        "# Create a train and test split.\n",
        "def split_data(feature_vecs, Y):\n",
        "    num_data = len(Y)\n",
        "    num_train = int(train_split * num_data)\n",
        "    index = np.random.permutation(range(num_data))\n",
        "    feat_vecs_train = feature_vecs[index[:num_train]]\n",
        "    Y_train = Y[index[:num_train]]\n",
        "    feat_vecs_test = feature_vecs[index[num_train:]]\n",
        "    Y_test = Y[index[num_train:]]\n",
        "    return feat_vecs_train, feat_vecs_test, Y_train, Y_test"
      ],
      "execution_count": 19,
      "outputs": []
    },
    {
      "cell_type": "code",
      "metadata": {
        "colab": {
          "base_uri": "https://localhost:8080/",
          "height": 972
        },
        "id": "Q0tzYJKXWx4Y",
        "outputId": "8540ead5-c411-40ef-e7ce-9fb2548bfeb8"
      },
      "source": [
        "def training(features, Y):\n",
        "    num_data = Y.shape[0]\n",
        "    feat_vecs_train, feat_vecs_test, Y_train, Y_test = split_data(features, Y)\n",
        "    num_train = Y_train.shape[0]\n",
        "    q_circuits = qnodes\n",
        "\n",
        "    # Initialize the parameters\n",
        "    all_weights = [\n",
        "        Variable(0.1 * torch.randn(num_layers, num_qubits, 3), requires_grad=True)\n",
        "        for i in range(num_classes)\n",
        "    ]\n",
        "    all_bias = [Variable(0.1 * torch.ones(1), requires_grad=True) for i in range(num_classes)]\n",
        "    optimizer = optim.Adam(all_weights + all_bias, lr=lr_adam)\n",
        "    params = (all_weights, all_bias)\n",
        "    print(\"Num params: \", 3 * num_layers * num_qubits * 3 + 3)\n",
        "\n",
        "    costs, train_acc, test_acc = [], [], []\n",
        "\n",
        "    # train the variational classifier\n",
        "    for it in range(total_iterations):\n",
        "        batch_index = np.random.randint(0, num_train, (batch_size,))\n",
        "        feat_vecs_train_batch = feat_vecs_train[batch_index]\n",
        "        Y_train_batch = Y_train[batch_index]\n",
        "\n",
        "        optimizer.zero_grad()\n",
        "        curr_cost = multiclass_svm_loss(q_circuits, params, feat_vecs_train_batch, Y_train_batch)\n",
        "        curr_cost.backward()\n",
        "        optimizer.step()\n",
        "\n",
        "        # Compute predictions on train and validation set\n",
        "        predictions_train = classify(q_circuits, params, feat_vecs_train, Y_train)\n",
        "        predictions_test = classify(q_circuits, params, feat_vecs_test, Y_test)\n",
        "        acc_train = accuracy(Y_train, predictions_train)\n",
        "        acc_test = accuracy(Y_test, predictions_test)\n",
        "\n",
        "        print(\n",
        "            \"Iter: {:5d} | Cost: {:0.7f} | Acc train: {:0.7f} | Acc test: {:0.7f} \"\n",
        "            \"\".format(it + 1, curr_cost.item(), acc_train, acc_test)\n",
        "        )\n",
        "\n",
        "        costs.append(curr_cost.item())\n",
        "        train_acc.append(acc_train)\n",
        "        test_acc.append(acc_test)\n",
        "\n",
        "    return costs, train_acc, test_acc\n",
        "\n",
        "\n",
        "# We now run our training algorithm and plot the results. Note that\n",
        "# for plotting, the matplotlib library is required\n",
        "\n",
        "features, Y = load_and_process_data()\n",
        "costs, train_acc, test_acc = training(features, Y)\n",
        "\n",
        "import matplotlib.pyplot as plt\n",
        "\n",
        "fig, ax1 = plt.subplots()\n",
        "iters = np.arange(0, total_iterations, 1)\n",
        "colors = [\"tab:red\", \"tab:blue\"]\n",
        "ax1.set_xlabel(\"Iteration\", fontsize=17)\n",
        "ax1.set_ylabel(\"Cost\", fontsize=17, color=colors[0])\n",
        "ax1.plot(iters, costs, color=colors[0], linewidth=4)\n",
        "ax1.tick_params(axis=\"y\", labelsize=14, labelcolor=colors[0])\n",
        "\n",
        "ax2 = ax1.twinx()\n",
        "ax2.set_ylabel(\"Test Acc.\", fontsize=17, color=colors[1])\n",
        "ax2.plot(iters, test_acc, color=colors[1], linewidth=4)\n",
        "\n",
        "ax2.tick_params(axis=\"x\", labelsize=14)\n",
        "ax2.tick_params(axis=\"y\", labelsize=14, labelcolor=colors[1])\n",
        "\n",
        "plt.grid(False)\n",
        "plt.tight_layout()\n",
        "plt.show()"
      ],
      "execution_count": 20,
      "outputs": [
        {
          "output_type": "stream",
          "name": "stdout",
          "text": [
            "First X sample, original  : tensor([-1.7222, -0.3406, -1.4972, -1.1124, -1.1579,  0.8517, -1.7138,  1.0002,\n",
            "        -2.0836,  0.9129,  0.0740,  0.3983,  0.7616, -0.7447, -0.5449, -0.0629],\n",
            "       dtype=torch.float64)\n",
            "First X sample, normalized: tensor([-0.3916, -0.0775, -0.3405, -0.2529, -0.2633,  0.1937, -0.3897,  0.2274,\n",
            "        -0.4738,  0.2076,  0.0168,  0.0906,  0.1732, -0.1693, -0.1239, -0.0143],\n",
            "       dtype=torch.float64)\n",
            "Num params:  219\n"
          ]
        },
        {
          "output_type": "stream",
          "name": "stderr",
          "text": [
            "/usr/local/lib/python3.7/dist-packages/pennylane/templates/embeddings/amplitude.py:136: UserWarning: The pad argument will be replaced by the pad_with option in future versions of PennyLane.\n",
            "  UserWarning,\n"
          ]
        },
        {
          "output_type": "stream",
          "name": "stdout",
          "text": [
            "Iter:     1 | Cost: 0.5042946 | Acc train: 0.1944444 | Acc test: 0.4166667 \n",
            "Iter:     2 | Cost: 0.3019893 | Acc train: 0.1666667 | Acc test: 0.3333333 \n",
            "Iter:     3 | Cost: 0.4371220 | Acc train: 0.4166667 | Acc test: 0.5833333 \n",
            "Iter:     4 | Cost: 0.2879733 | Acc train: 0.8888889 | Acc test: 0.9166667 \n",
            "Iter:     5 | Cost: 0.1963925 | Acc train: 0.8888889 | Acc test: 0.9166667 \n",
            "Iter:     6 | Cost: 0.0352133 | Acc train: 0.8888889 | Acc test: 0.9166667 \n",
            "Iter:     7 | Cost: 0.1840036 | Acc train: 0.8888889 | Acc test: 0.9166667 \n",
            "Iter:     8 | Cost: 0.0539832 | Acc train: 0.9166667 | Acc test: 1.0000000 \n",
            "Iter:     9 | Cost: 0.0422185 | Acc train: 0.9166667 | Acc test: 1.0000000 \n",
            "Iter:    10 | Cost: 0.0288075 | Acc train: 0.9166667 | Acc test: 1.0000000 \n",
            "Iter:    11 | Cost: 0.1125818 | Acc train: 0.9444444 | Acc test: 0.9166667 \n",
            "Iter:    12 | Cost: 0.0308008 | Acc train: 0.9444444 | Acc test: 0.9166667 \n",
            "Iter:    13 | Cost: 0.0379195 | Acc train: 0.9444444 | Acc test: 0.9166667 \n",
            "Iter:    14 | Cost: 0.0322508 | Acc train: 0.9444444 | Acc test: 0.9166667 \n",
            "Iter:    15 | Cost: 0.0052653 | Acc train: 0.9444444 | Acc test: 0.9166667 \n",
            "Iter:    16 | Cost: 0.1120023 | Acc train: 0.9444444 | Acc test: 0.9166667 \n",
            "Iter:    17 | Cost: 0.0759373 | Acc train: 0.9444444 | Acc test: 0.9166667 \n",
            "Iter:    18 | Cost: 0.0000000 | Acc train: 0.9444444 | Acc test: 0.9166667 \n",
            "Iter:    19 | Cost: 0.0000000 | Acc train: 0.9444444 | Acc test: 0.9166667 \n",
            "Iter:    20 | Cost: 0.0000000 | Acc train: 0.9444444 | Acc test: 0.9166667 \n",
            "Iter:    21 | Cost: 0.0000000 | Acc train: 0.9444444 | Acc test: 0.9166667 \n",
            "Iter:    22 | Cost: 0.0000000 | Acc train: 0.9444444 | Acc test: 0.9166667 \n",
            "Iter:    23 | Cost: 0.0000000 | Acc train: 0.9444444 | Acc test: 0.9166667 \n",
            "Iter:    24 | Cost: 0.0000000 | Acc train: 0.9444444 | Acc test: 0.9166667 \n",
            "Iter:    25 | Cost: 0.1054398 | Acc train: 0.9444444 | Acc test: 0.9166667 \n",
            "Iter:    26 | Cost: 0.0456750 | Acc train: 0.9444444 | Acc test: 0.9166667 \n",
            "Iter:    27 | Cost: 0.0000000 | Acc train: 0.9444444 | Acc test: 0.9166667 \n",
            "Iter:    28 | Cost: 0.0578638 | Acc train: 0.9444444 | Acc test: 0.9166667 \n",
            "Iter:    29 | Cost: 0.0560975 | Acc train: 0.9444444 | Acc test: 0.9166667 \n",
            "Iter:    30 | Cost: 0.0530653 | Acc train: 0.9444444 | Acc test: 0.9166667 \n"
          ]
        },
        {
          "output_type": "display_data",
          "data": {
            "image/png": "[encoded data removed]",
            "text/plain": [
              "<Figure size 432x288 with 2 Axes>"
            ]
          },
          "metadata": {
            "needs_background": "light"
          }
        }
      ]
    },
    {
      "cell_type": "markdown",
      "metadata": {
        "id": "soAOiChqZ1oW"
      },
      "source": [
        "We have no vdiff values in the train data and three vdiff values in the test data. As a result, this change has an effect on the accuracy. In fact, the accuracy train decreased to 0.91 while the accuracy test remained at 1. Our model is overfits."
      ]
    },
    {
      "cell_type": "markdown",
      "metadata": {
        "id": "UMsVP_ADACzu"
      },
      "source": [
        "###Analyze and discuss the results."
      ]
    },
    {
      "cell_type": "markdown",
      "metadata": {
        "id": "VLJL5RfF_Abk"
      },
      "source": [
        "As shown in the three examples, when we include a different element in the data, the accuracy decreases automatically because the model used two different x data with the same label. As a result, the model's output is inaccurate, and it overfits."
      ]
    },
    {
      "cell_type": "markdown",
      "metadata": {
        "id": "qZF8s2uBAl9q"
      },
      "source": [
        "Actually, I used very small data in this notebook because I wanted to see the results of a 4 random 4-qubits state. However, to avoid overfitting and achieve better results, I recommend running a generative model that can generate a large amount of data. To distinguish between real and fake data, the generative model can be followed by a discriminative model. As a result, we will have a more accurate classification model."
      ]
    },
    {
      "cell_type": "markdown",
      "metadata": {
        "id": "OUku7G0EDk1p"
      },
      "source": [
        "###Some future works"
      ]
    },
    {
      "cell_type": "markdown",
      "metadata": {
        "id": "r79VTGYCDv2d"
      },
      "source": [
        "I have a few suggestions for how we can improve our model. Due to a lack of time, I was unable to test them:\n"
      ]
    },
    {
      "cell_type": "markdown",
      "metadata": {
        "id": "2b38XeDaTKEy"
      },
      "source": [
        "1-A generative network model is used."
      ]
    },
    {
      "cell_type": "markdown",
      "metadata": {
        "id": "tWn8S0KzTKHc"
      },
      "source": [
        "2-Apply multiple variational quantum circuit models."
      ]
    },
    {
      "cell_type": "markdown",
      "metadata": {
        "id": "ARoYWm9OTKK5"
      },
      "source": [
        "3-Use multiple optimization algorithms and explain the impact of each one."
      ]
    },
    {
      "cell_type": "markdown",
      "metadata": {
        "id": "XVTozGqqTWp5"
      },
      "source": [
        "4-Make use of various PennyLane Plugins."
      ]
    },
    {
      "cell_type": "markdown",
      "metadata": {
        "id": "316obmo5TWtY"
      },
      "source": [
        "5-Try to reduce noise after applying the model to a real quantum device."
      ]
    },
    {
      "cell_type": "markdown",
      "metadata": {
        "id": "kdIn10FeTd-3"
      },
      "source": [
        "Finally, I'd like to express my gratitude for providing me with the opportunity to think about and solve the problem."
      ]
    }
  ]
}